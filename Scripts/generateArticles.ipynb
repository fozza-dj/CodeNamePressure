{
 "cells": [
  {
   "cell_type": "code",
   "execution_count": 62,
   "metadata": {},
   "outputs": [],
   "source": [
    "import json\n",
    "import os\n",
    "import random\n",
    "import string\n",
    "from enum import Enum\n",
    "\n",
    "# FollowStatus 枚举类型\n",
    "class FollowStatus(Enum):\n",
    "    unfollow = 0\n",
    "    followed = 1\n",
    "\n",
    "# ArticleModel 类\n",
    "class ArticleModel:\n",
    "    def __init__(self, articleID, author, text, imageUrls):\n",
    "        self.articleID = articleID\n",
    "        self.author = author\n",
    "        self.text = text\n",
    "        self.imageUrls = imageUrls\n",
    "        self.commentCount = 0\n",
    "        self.likeCount = 0\n",
    "        self.isLiked = False\n",
    "\n",
    "# UserModel 类\n",
    "class UserModel:\n",
    "    def __init__(self, userID, nickname, avatarUrl, followStatus, isVip):\n",
    "        self.userID = userID\n",
    "        self.nickname = nickname\n",
    "        self.avatarUrl = avatarUrl\n",
    "        self.followStatus = followStatus\n",
    "        self.isVip = isVip"
   ]
  },
  {
   "cell_type": "code",
   "execution_count": 22,
   "metadata": {},
   "outputs": [],
   "source": [
    "# 生成随机的 ID\n",
    "def generate_random_id():\n",
    "    return ''.join(random.choices(string.ascii_letters + string.digits, k=10))\n",
    "\n",
    "# 生成随机的文本\n",
    "def generate_random_text(length=20):\n",
    "    random_number = random.randint(1, length)\n",
    "    letters = string.ascii_lowercase\n",
    "    random_string = ''.join(random.choice(letters) for _ in range(random_number))\n",
    "    return random_string"
   ]
  },
  {
   "cell_type": "code",
   "execution_count": 43,
   "metadata": {},
   "outputs": [],
   "source": [
    "# 获取文件夹下的 JPG 文件\n",
    "def get_jpg_files(n):\n",
    "    folder_path = \"../MyPressure/Resources/\"  # 替换为实际的文件夹路径\n",
    "    jpg_files = []\n",
    "    jpg_count = 0\n",
    "    for file_name in os.listdir(folder_path):\n",
    "        if file_name.lower().endswith(\".jpg\"):\n",
    "            jpg_files.append(file_name)\n",
    "            jpg_count += 1\n",
    "            if jpg_count == n:\n",
    "                break\n",
    "    return jpg_files"
   ]
  },
  {
   "cell_type": "code",
   "execution_count": 44,
   "metadata": {},
   "outputs": [
    {
     "data": {
      "text/plain": [
       "['8697cf1ely8gashxj3b09j20u00u040v.jpg',\n",
       " 'd0c21786ly1gavj2c0kcej20c8096dh7.jpg',\n",
       " '6ec3b446jw1e8qgp5bmzyj2050050aa8.jpg',\n",
       " '8a0b5544jw1e8qgp5bmzyj2050050aa8.jpg',\n",
       " 'bca7fdafly1gax1gqdg6qj20c80avdgl.jpg',\n",
       " '9dc7402fjw1e8qgp5bmzyj2050050aa8.jpg',\n",
       " 'eb5c94aegy1gav25n5ibjj20zk1h8wuu.jpg',\n",
       " '006gWxMEly1gavap8dywoj30hs0bwq48.jpg',\n",
       " '630584a6gy1gau54zl806j20m80etmzo.jpg',\n",
       " '9dc7402fgy1gavd38wwlrj20j60nyq6y.jpg',\n",
       " '8a0b5544gy1gauy2flua6j20u00hitab.jpg',\n",
       " '7f9147a5ly1fzxlh4ovuej20e90fl4fo.jpg',\n",
       " '7f9147a5ly1fzxlgxgzpij20e90fltsj.jpg',\n",
       " '76297935ly1gatz8obqvkj22c0340npe.jpg',\n",
       " 'd0c21786ly8fsax1ftiifj20ro0ro43g.jpg',\n",
       " '9dc7402fgy1gavd38kqjtj20j60nyn1d.jpg',\n",
       " '6a2afec3gy1gaulykcejqj20t5145wns.jpg',\n",
       " '4e7f0c83gy1gam2mp0x4pj22tc240u0x.jpg',\n",
       " 'c5aa834fgy1gauzrb7s5ej20tz13qh5x.jpg',\n",
       " '700a34f6gy1gaunswxtlrj20j60pkgok.jpg']"
      ]
     },
     "execution_count": 44,
     "metadata": {},
     "output_type": "execute_result"
    }
   ],
   "source": [
    "get_jpg_files(20)"
   ]
  },
  {
   "cell_type": "code",
   "execution_count": 60,
   "metadata": {},
   "outputs": [],
   "source": [
    "def get_random_jpg_filelist():\n",
    "    random_number = random.randint(1, 4)\n",
    "    folder_path = \"../MyPressure/Resources/\"  # 替换为实际的文件夹路径\n",
    "    jpg_list = []\n",
    "    for i in range(random_number):\n",
    "        jpg_files = [file for file in os.listdir(folder_path) if file.endswith(\".jpg\")]\n",
    "        if jpg_files:\n",
    "            random_jpg_filename = random.choice(jpg_files)\n",
    "            jpg_list.append(random_jpg_filename)\n",
    "    return jpg_list"
   ]
  },
  {
   "cell_type": "code",
   "execution_count": 61,
   "metadata": {},
   "outputs": [
    {
     "data": {
      "text/plain": [
       "['6ec3b446gy1gavd4xud8lj20j60qkwj0.jpg',\n",
       " '630584a6gy1gau54zyj61j20m80etn07.jpg',\n",
       " '8697cf1ely8gashxj3b09j20u00u040v.jpg']"
      ]
     },
     "execution_count": 61,
     "metadata": {},
     "output_type": "execute_result"
    }
   ],
   "source": [
    "get_random_jpg_filelist()"
   ]
  },
  {
   "cell_type": "code",
   "execution_count": 71,
   "metadata": {},
   "outputs": [],
   "source": [
    "# 生成随机的作者信息\n",
    "def generate_author():\n",
    "    userID = generate_random_id()\n",
    "    nickname = generate_random_text()\n",
    "    avatarUrl = get_random_jpg_filelist()\n",
    "    followStatus = random.choice([0, 1])\n",
    "    isVip = random.choice([True, False])\n",
    "    author = UserModel(userID, nickname, avatarUrl, followStatus, isVip)\n",
    "    return author"
   ]
  },
  {
   "cell_type": "code",
   "execution_count": 72,
   "metadata": {},
   "outputs": [
    {
     "data": {
      "text/plain": [
       "'{\"userID\": \"dY1FUzeFlr\", \"nickname\": \"lgoivmhgpjrquketviaq\", \"avatarUrl\": \"d0c21786ly1gavj2cdrkyj20c80720tg.jpg\", \"followStatus\": 0, \"isVip\": true}'"
      ]
     },
     "execution_count": 72,
     "metadata": {},
     "output_type": "execute_result"
    }
   ],
   "source": [
    "# 自定义编码器\n",
    "class EnumEncoder(json.JSONEncoder):\n",
    "    def default(self, obj):\n",
    "        if isinstance(obj, Enum):\n",
    "            return obj.value\n",
    "        return super().default(obj)\n",
    "\n",
    "json.dumps(generate_author().__dict__, cls=EnumEncoder)"
   ]
  },
  {
   "cell_type": "code",
   "execution_count": 73,
   "metadata": {},
   "outputs": [],
   "source": [
    "# 生成随机的推文信息\n",
    "def generate_acticle():\n",
    "    articleID = generate_random_id()\n",
    "    author = generate_author()\n",
    "    text = generate_random_text()\n",
    "    imageUrls = get_random_jpg_filelist()\n",
    "    article = ArticleModel(articleID, author, text, imageUrls)\n",
    "    return article"
   ]
  },
  {
   "cell_type": "code",
   "execution_count": 74,
   "metadata": {},
   "outputs": [
    {
     "data": {
      "text/plain": [
       "'{\"articleID\": \"TNe0oUCfR4\", \"author\": {\"userID\": \"rR9GqsH8SA\", \"nickname\": \"ekffsyvy\", \"avatarUrl\": \"006PdkDogy1gap6ngj12ej30u011itf7.jpg\", \"followStatus\": 0, \"isVip\": false}, \"text\": \"fwjai\", \"imageUrls\": [\"8a0b5544gy1gauy2flua6j20u00hitab.jpg\", \"4e7f0c83ly8g1ho507078j20ro0rojtq.jpg\", \"76297935ly1gatz8k5itij22c02c01ky.jpg\"], \"commentCount\": 0, \"likeCount\": 0, \"isLiked\": false}'"
      ]
     },
     "execution_count": 74,
     "metadata": {},
     "output_type": "execute_result"
    }
   ],
   "source": [
    "json.dumps(generate_acticle().__dict__, default=lambda a: a.__dict__)"
   ]
  },
  {
   "cell_type": "code",
   "execution_count": 75,
   "metadata": {},
   "outputs": [],
   "source": [
    "def generate_article_list_json():\n",
    "    count = 5\n",
    "    article_list = []\n",
    "    for i in range(count):\n",
    "        article_list.append(generate_acticle())\n",
    "    article_list_dict = {'list': article_list}\n",
    "    return article_list_dict"
   ]
  },
  {
   "cell_type": "code",
   "execution_count": 77,
   "metadata": {},
   "outputs": [
    {
     "data": {
      "text/plain": [
       "'{\"list\": [{\"articleID\": \"54iCxS7oee\", \"author\": {\"userID\": \"79EMCr75Lb\", \"nickname\": \"fejlqykjjro\", \"avatarUrl\": \"eb5c94aegy1gav25n5ibjj20zk1h8wuu.jpg\", \"followStatus\": 0, \"isVip\": false}, \"text\": \"yqrnhf\", \"imageUrls\": [\"eb5c94aegy1gav2509cp5j20zk0k0n2j.jpg\"], \"commentCount\": 0, \"likeCount\": 0, \"isLiked\": false}, {\"articleID\": \"bKx7e7Gwwl\", \"author\": {\"userID\": \"WzqwKjNHW3\", \"nickname\": \"rrbnstzipuw\", \"avatarUrl\": \"9dc7402fgy1gavd39ba15j20j60nywii.jpg\", \"followStatus\": 1, \"isVip\": true}, \"text\": \"qrtpz\", \"imageUrls\": [\"bca7fdafly1gax1gqd9vmj20c80ayaam.jpg\", \"eb5c94aegy1gav2509cp5j20zk0k0n2j.jpg\"], \"commentCount\": 0, \"likeCount\": 0, \"isLiked\": false}, {\"articleID\": \"jm1f4xCq9p\", \"author\": {\"userID\": \"myUCFmiyTq\", \"nickname\": \"svg\", \"avatarUrl\": \"630584a6gy1gau54zgaxhj20m80et0vq.jpg\", \"followStatus\": 0, \"isVip\": false}, \"text\": \"ehrlrsccpdlvigq\", \"imageUrls\": [\"76297935ly1gatz89dzblj23402c0qv6.jpg\", \"006PdkDoly8ffywe2fq39j304g04gwed.jpg\"], \"commentCount\": 0, \"likeCount\": 0, \"isLiked\": false}, {\"articleID\": \"LFSSuohXta\", \"author\": {\"userID\": \"sMF7uwRX03\", \"nickname\": \"nyr\", \"avatarUrl\": \"d0c21786ly1gavj2cdrkyj20c80720tg.jpg\", \"followStatus\": 1, \"isVip\": true}, \"text\": \"xctqcqhouaqilkbk\", \"imageUrls\": [\"006gWxMEly1gavap8vsqaj30hs0bwgm6.jpg\", \"eb5c94aegy1gav2509cp5j20zk0k0n2j.jpg\", \"006gWxMEly8g0bjpl3ynij30kv0kv773.jpg\"], \"commentCount\": 0, \"likeCount\": 0, \"isLiked\": false}, {\"articleID\": \"lQAYsgAOi8\", \"author\": {\"userID\": \"BkhnhkRqhL\", \"nickname\": \"v\", \"avatarUrl\": \"4e7f0c83ly8g1ho507078j20ro0rojtq.jpg\", \"followStatus\": 0, \"isVip\": true}, \"text\": \"glpaswangmqncmgrw\", \"imageUrls\": [\"6a2afec3jw8fb4ld0qf2gj20e80dsdfz.jpg\", \"76297935ly1gatz8k5itij22c02c01ky.jpg\", \"8a0b5544gy1gauy2g35yoj20u00fomzf.jpg\", \"7f9147a5ly1fzxlh4ovuej20e90fl4fo.jpg\"], \"commentCount\": 0, \"likeCount\": 0, \"isLiked\": false}]}'"
      ]
     },
     "execution_count": 77,
     "metadata": {},
     "output_type": "execute_result"
    }
   ],
   "source": [
    "json.dumps(generate_article_list_json(), default=lambda a: a.__dict__)"
   ]
  },
  {
   "cell_type": "code",
   "execution_count": 78,
   "metadata": {},
   "outputs": [],
   "source": [
    "json_data = json.dumps(generate_article_list_json(), default=lambda a: a.__dict__)\n",
    "output_file = 'test1.json'\n",
    "with open(output_file, 'w') as file:\n",
    "        file.write(json_data)"
   ]
  },
  {
   "cell_type": "code",
   "execution_count": null,
   "metadata": {},
   "outputs": [],
   "source": []
  }
 ],
 "metadata": {
  "kernelspec": {
   "display_name": "Python 3",
   "language": "python",
   "name": "python3"
  },
  "language_info": {
   "codemirror_mode": {
    "name": "ipython",
    "version": 3
   },
   "file_extension": ".py",
   "mimetype": "text/x-python",
   "name": "python",
   "nbconvert_exporter": "python",
   "pygments_lexer": "ipython3",
   "version": "3.9.6"
  },
  "orig_nbformat": 4
 },
 "nbformat": 4,
 "nbformat_minor": 2
}
